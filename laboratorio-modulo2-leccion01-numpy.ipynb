{
 "cells": [
  {
   "cell_type": "markdown",
   "id": "6db588db",
   "metadata": {},
   "source": [
    "<div style=\"text-align: center;\">\n",
    "  <img src=\"https://github.com/Hack-io-Data/Imagenes/blob/main/01-LogosHackio/logo_naranja@4x.png?raw=true\" alt=\"esquema\" />\n",
    "</div>"
   ]
  },
  {
   "cell_type": "markdown",
   "id": "11308d6c",
   "metadata": {},
   "source": [
    "\n",
    "# Laboratorio de NumPy"
   ]
  },
  {
   "cell_type": "code",
   "execution_count": 1,
   "id": "ac693692",
   "metadata": {},
   "outputs": [],
   "source": [
    "import numpy as np\n",
    "\n"
   ]
  },
  {
   "cell_type": "markdown",
   "id": "a19d4596",
   "metadata": {},
   "source": [
    "#### Ejercicio 1 - Crea un array de 1D con los números del 0 al 9."
   ]
  },
  {
   "cell_type": "code",
   "execution_count": 2,
   "id": "9d4e1d42",
   "metadata": {},
   "outputs": [
    {
     "name": "stdout",
     "output_type": "stream",
     "text": [
      "[0, 1, 2, 3, 4, 5, 6, 7, 8, 9]\n",
      "[0 1 2 3 4 5 6 7 8 9]\n"
     ]
    }
   ],
   "source": [
    "lista1 = list(range(0,10))\n",
    "print(lista1)\n",
    "array_monodimensional = np.array(lista1)\n",
    "print(array_monodimensional)"
   ]
  },
  {
   "cell_type": "markdown",
   "id": "f4a41f16",
   "metadata": {},
   "source": [
    "#### Ejercicio 2 - Convierte un array 1D en un array 2D con 2 filas y 5 columnas."
   ]
  },
  {
   "cell_type": "code",
   "execution_count": 3,
   "id": "3d7cef3c",
   "metadata": {},
   "outputs": [
    {
     "name": "stdout",
     "output_type": "stream",
     "text": [
      "[[0 1 2 3 4]\n",
      " [5 6 7 8 9]]\n"
     ]
    }
   ],
   "source": [
    "array_bidimensional = array_monodimensional.reshape(2,5)\n",
    "print(array_bidimensional)"
   ]
  },
  {
   "cell_type": "markdown",
   "id": "86bb8999",
   "metadata": {},
   "source": [
    "#### Ejercicio 3 - Encuentra los índices de los elementos con valor distinto de 0 en el siguiente array: [0, 2, 0, 3, 0, 4, 0]."
   ]
  },
  {
   "cell_type": "code",
   "execution_count": 4,
   "id": "d1fcfca4",
   "metadata": {},
   "outputs": [
    {
     "name": "stdout",
     "output_type": "stream",
     "text": [
      "[0 2 0 3 0 4 0]\n",
      "(array([1, 3, 5]),)\n"
     ]
    }
   ],
   "source": [
    "mi_array = np.array([0, 2, 0, 3, 0, 4, 0])\n",
    "print(mi_array)\n",
    "print(np.where(mi_array>0))\n"
   ]
  },
  {
   "cell_type": "markdown",
   "id": "1c548419",
   "metadata": {},
   "source": [
    "#### Ejercicio 4 - Crea un array 3x3 con valores aleatorios entre 0 y 1."
   ]
  },
  {
   "cell_type": "code",
   "execution_count": 5,
   "id": "e1d4f19f",
   "metadata": {},
   "outputs": [
    {
     "name": "stdout",
     "output_type": "stream",
     "text": [
      "[1 0 0]\n"
     ]
    }
   ],
   "source": [
    "\n",
    "random_array=np.random.randint(0,2,3)\n",
    "print(random_array)"
   ]
  },
  {
   "cell_type": "markdown",
   "id": "aee82811",
   "metadata": {},
   "source": [
    "#### Ejercicio 5 - Crea un array de 10 números aleatorios y encuentra el valor máximo y mínimo."
   ]
  },
  {
   "cell_type": "code",
   "execution_count": 6,
   "id": "81fea76e",
   "metadata": {},
   "outputs": [
    {
     "name": "stdout",
     "output_type": "stream",
     "text": [
      "[1 8 5 2 9 3 6 4 5 4]\n",
      "1 9\n"
     ]
    }
   ],
   "source": [
    "random_array=np.random.randint(1,10,10)\n",
    "print(random_array)\n",
    "minimo=np.min(random_array)\n",
    "maximo = np.max(random_array)\n",
    "print(minimo, maximo)"
   ]
  },
  {
   "cell_type": "markdown",
   "id": "6559375b",
   "metadata": {},
   "source": [
    "#### Ejercicio 6 - Crea un array de una dimensión e inviértelo. "
   ]
  },
  {
   "cell_type": "code",
   "execution_count": 7,
   "id": "31385db0",
   "metadata": {},
   "outputs": [
    {
     "name": "stdout",
     "output_type": "stream",
     "text": [
      "[8 4 2 3 1 4 6 1 9 3]\n",
      "[3 9 1 6 4 1 3 2 4 8]\n"
     ]
    }
   ],
   "source": [
    "random_array=np.random.randint(1,10,10)\n",
    "print(random_array)\n",
    "array_invertido = np.flip(random_array)\n",
    "print(array_invertido)"
   ]
  },
  {
   "cell_type": "markdown",
   "id": "4457f046",
   "metadata": {},
   "source": [
    "\n",
    "#### Ejercicio 6 - Genera un array tridimensional de dimensiones (2, 3, 4) con valores enteros del 1 al 24.\n",
    "\n",
    "- Selecciona el primer `15` del array.\n",
    "\n",
    "- Selecciona todos los elementos del primer array. \n",
    "\n",
    "- Selecciona la última fila del último array\n"
   ]
  },
  {
   "cell_type": "code",
   "execution_count": 8,
   "id": "3cab04c9",
   "metadata": {},
   "outputs": [
    {
     "name": "stdout",
     "output_type": "stream",
     "text": [
      "[[[ 1  2  3  4]\n",
      "  [ 5  6  7  8]\n",
      "  [ 9 10 11 12]]\n",
      "\n",
      " [[13 14 15 16]\n",
      "  [17 18 19 20]\n",
      "  [21 22 23 24]]]\n",
      "El primer quince es:  15\n",
      "La ultima fila es:  [21 22 23 24]\n"
     ]
    }
   ],
   "source": [
    "auxiliar=np.arange(1,25)\n",
    "array_tridimensional=auxiliar.reshape(2, 3, 4) # Este es el array tridimensional pedido\n",
    "print(array_tridimensional)\n",
    "primer_quince=array_tridimensional[1, 0, 2] # Este es el primer 15 que aparece\n",
    "print(\"El primer quince es: \", primer_quince)\n",
    "ultima_fila = array_tridimensional[1 ,2, :] # Ultima fila del ultimo array\n",
    "print(\"La ultima fila es: \", ultima_fila)\n"
   ]
  },
  {
   "cell_type": "markdown",
   "id": "681b7e4e",
   "metadata": {},
   "source": [
    "\n",
    "#### Ejercicio 7 - Genera un array tridimensional de dimensiones (3, 2, 5) con valores enteros del 1 al 30.\n",
    "\n",
    "- Selecciona el subarray que contiene los dos primeros elementos de cada fila del primer array.\n",
    "\n",
    "- Selecciona el subarray que contiene todas las filas de los dos últimos arrays.\n"
   ]
  },
  {
   "cell_type": "code",
   "execution_count": 9,
   "id": "b008a9aa",
   "metadata": {},
   "outputs": [
    {
     "name": "stdout",
     "output_type": "stream",
     "text": [
      "[[[ 5 16 19 16  1]\n",
      "  [13 16 16 19 29]]\n",
      "\n",
      " [[ 8  8  1 17  9]\n",
      "  [24 11  7 11  1]]\n",
      "\n",
      " [[ 4 29 19  8 18]\n",
      "  [ 7 14  7 28 26]]]\n",
      "El primer subarray que nos piden es [[ 5 16]\n",
      " [13 16]]\n",
      "El segundo subarray que nos piden es [[[ 8  8  1 17  9]\n",
      "  [24 11  7 11  1]]\n",
      "\n",
      " [[ 4 29 19  8 18]\n",
      "  [ 7 14  7 28 26]]]\n"
     ]
    }
   ],
   "source": [
    "array_tridimensional=np.random.randint(1,30,(3,2,5))\n",
    "print(array_tridimensional)\n",
    "subarray1 = array_tridimensional[0,:,:2] #primer subarray que nos piden\n",
    "print(\"El primer subarray que nos piden es\", subarray1)\n",
    "subarray2 = array_tridimensional[1:,:,:]\n",
    "print(\"El segundo subarray que nos piden es\", subarray2)"
   ]
  },
  {
   "cell_type": "markdown",
   "id": "4fabd9d0",
   "metadata": {},
   "source": [
    "#### Ejercicio 8 - Genera un array tridimensional de dimensiones (4, 3, 2) con valores enteros del 1 al 24.\n",
    "\n",
    "- Cambia todos los elementos de la segunda fila del segundo array por `0`.\n",
    "\n",
    "- Cambia todos los valores del último array a `-1`.\n"
   ]
  },
  {
   "cell_type": "code",
   "execution_count": 10,
   "id": "0ef45b69",
   "metadata": {},
   "outputs": [
    {
     "name": "stdout",
     "output_type": "stream",
     "text": [
      "[[[ 1  2]\n",
      "  [ 3  4]\n",
      "  [ 5  6]]\n",
      "\n",
      " [[ 7  8]\n",
      "  [ 0  0]\n",
      "  [11 12]]\n",
      "\n",
      " [[13 14]\n",
      "  [15 16]\n",
      "  [17 18]]\n",
      "\n",
      " [[19 20]\n",
      "  [21 22]\n",
      "  [23 24]]]\n",
      "[[[ 1  2]\n",
      "  [ 3  4]\n",
      "  [ 5  6]]\n",
      "\n",
      " [[ 7  8]\n",
      "  [ 0  0]\n",
      "  [11 12]]\n",
      "\n",
      " [[13 14]\n",
      "  [15 16]\n",
      "  [17 18]]\n",
      "\n",
      " [[-1 -1]\n",
      "  [-1 -1]\n",
      "  [-1 -1]]]\n"
     ]
    }
   ],
   "source": [
    "auxiliar=np.arange(1,25)\n",
    "array_tridimensional=auxiliar.reshape(4, 3, 2)\n",
    "array_tridimensional[1, 1, :] = 0 # Cambiamos todos los elementos de la segunda fila del segundo array por 0\n",
    "print(array_tridimensional)\n",
    "array_tridimensional[-1, :, :] = -1 # Cambiamos todos los valores del último array a -1\n",
    "print(array_tridimensional)\n"
   ]
  },
  {
   "cell_type": "markdown",
   "id": "c60bc3bb",
   "metadata": {},
   "source": [
    "\n",
    "#### Ejercicio 9 - Genera un array tridimensional de dimensiones (2, 4, 3) con valores enteros del -10 al 13.\n",
    "\n",
    "- Selecciona todos los elementos mayores a `5`.\n",
    "\n",
    "- Reemplaza todos los elementos negativos por `0`.\n"
   ]
  },
  {
   "cell_type": "code",
   "execution_count": 11,
   "id": "28bf9232",
   "metadata": {},
   "outputs": [
    {
     "name": "stdout",
     "output_type": "stream",
     "text": [
      "[[[-10  -9  -8]\n",
      "  [ -7  -6  -5]\n",
      "  [ -4  -3  -2]\n",
      "  [ -1   0   1]]\n",
      "\n",
      " [[  2   3   4]\n",
      "  [  5   6   7]\n",
      "  [  8   9  10]\n",
      "  [ 11  12  13]]]\n",
      "[ 6  7  8  9 10 11 12 13]\n",
      "[[[ 0  0  0]\n",
      "  [ 0  0  0]\n",
      "  [ 0  0  0]\n",
      "  [ 0  0  1]]\n",
      "\n",
      " [[ 2  3  4]\n",
      "  [ 5  6  7]\n",
      "  [ 8  9 10]\n",
      "  [11 12 13]]]\n"
     ]
    }
   ],
   "source": [
    "# Generamos el array del enunciado\n",
    "array_tridimensional = np.arange(-10, 14).reshape((2, 4, 3))\n",
    "print(array_tridimensional)\n",
    "# Elementos mayores a 5\n",
    "mayores_que_5 = array_tridimensional[array_tridimensional > 5]\n",
    "print(mayores_que_5)\n",
    "\n",
    "# Reemplazar todos los elementos negativos por 0\n",
    "array_tridimensional[array_tridimensional < 0] = 0\n",
    "\n",
    "print(array_tridimensional)"
   ]
  },
  {
   "cell_type": "markdown",
   "id": "ab38a3be",
   "metadata": {},
   "source": [
    "#### Ejercicio 10 - Genera un array tridimensional de dimensiones (3, 3, 3) con valores enteros del 1 al 27.\n",
    "\n",
    "- Selecciona el subarray del segundo array que contenga solo las dos primeras columnas.\n",
    "\n",
    "- Selecciona todos los elementos del tercer array que sean mayores que `20`.\n"
   ]
  },
  {
   "cell_type": "code",
   "execution_count": 12,
   "id": "78c979cf",
   "metadata": {},
   "outputs": [
    {
     "name": "stdout",
     "output_type": "stream",
     "text": [
      "[[10 11]\n",
      " [13 14]\n",
      " [16 17]]\n",
      "[21 22 23 24 25 26 27]\n"
     ]
    }
   ],
   "source": [
    "# Generamos el array del enunciado\n",
    "array_tridimensional = np.arange(1, 28).reshape((3, 3, 3))\n",
    "\n",
    "# Primer subarray pedido\n",
    "subarray1 = array_tridimensional[1, :, :2]\n",
    "print(subarray1)\n",
    "\n",
    "# Segundo subarray pedido\n",
    "subarray2 = array_tridimensional[2][array_tridimensional[2] > 20]\n",
    "print(subarray2)\n",
    "\n"
   ]
  },
  {
   "cell_type": "markdown",
   "id": "f1a00156",
   "metadata": {},
   "source": [
    "#### Ejercicio 11 - Crea un array de 10 números aleatorios y reemplaza los valores máximos y mínimos por 0."
   ]
  },
  {
   "cell_type": "code",
   "execution_count": 13,
   "id": "990fa526",
   "metadata": {},
   "outputs": [
    {
     "name": "stdout",
     "output_type": "stream",
     "text": [
      "[995 320 100 615  24 954 499 242 312 892]\n",
      "[  0 320 100 615   0 954 499 242 312 892]\n"
     ]
    }
   ],
   "source": [
    "array_random = np.random.randint(1,1000,10)\n",
    "print(array_random)\n",
    "#Reemplazamos el maximo y el minimo por 0\n",
    "max_index = np.argmax(array_random) \n",
    "min_index = np.argmin(array_random)\n",
    "array_random[max_index] = 0\n",
    "array_random[min_index] = 0\n",
    "print(array_random)"
   ]
  },
  {
   "cell_type": "markdown",
   "id": "781fafd0",
   "metadata": {},
   "source": [
    "#### Ejercicio 12 - Genera un array de 15 números aleatorios enteros entre 1 y 100 y reordénalo en orden ascendente."
   ]
  },
  {
   "cell_type": "code",
   "execution_count": 14,
   "id": "caa4fd47",
   "metadata": {},
   "outputs": [
    {
     "name": "stdout",
     "output_type": "stream",
     "text": [
      "[624 461 257 885 437 821 300 491 415 439 301 161 522 335 761]\n",
      "La lista reordenada en orden ascendente es:\n",
      "[161 257 300 301 335 415 437 439 461 491 522 624 761 821 885]\n"
     ]
    }
   ],
   "source": [
    "array_random = np.random.randint(1,1000,15)\n",
    "print(array_random)\n",
    "array_random_ordenado = np.sort(array_random)\n",
    "print(\"La lista reordenada en orden ascendente es:\")\n",
    "print(array_random_ordenado)"
   ]
  },
  {
   "cell_type": "markdown",
   "id": "45f10c3e",
   "metadata": {},
   "source": [
    "#### Ejercicio 11 - Calcula la suma de los elementos a lo largo de las filas y columnas en una matriz 4x4."
   ]
  },
  {
   "cell_type": "code",
   "execution_count": 15,
   "id": "90220788",
   "metadata": {},
   "outputs": [
    {
     "name": "stdout",
     "output_type": "stream",
     "text": [
      "[[4 6 4 7]\n",
      " [1 8 6 8]\n",
      " [3 4 3 2]\n",
      " [8 5 9 7]]\n",
      "85\n"
     ]
    }
   ],
   "source": [
    "matriz = np.random.randint(1,10,[4, 4])\n",
    "print(matriz)\n",
    "suma_elementos=sum(sum(matriz[:,:])) #Aqui hacemos primero la suma de cada columna y luego la suma de esas sumas\n",
    "print(suma_elementos)\n"
   ]
  },
  {
   "cell_type": "markdown",
   "id": "69b9751a",
   "metadata": {},
   "source": [
    "#### Ejercicio 12 - Crea una matriz de 5x5 con valores en el borde igual a 1 y en el interior igual a 0."
   ]
  },
  {
   "cell_type": "code",
   "execution_count": 16,
   "id": "eca81323",
   "metadata": {},
   "outputs": [
    {
     "name": "stdout",
     "output_type": "stream",
     "text": [
      "[[0. 0. 0. 0. 0.]\n",
      " [0. 0. 0. 0. 0.]\n",
      " [0. 0. 0. 0. 0.]\n",
      " [0. 0. 0. 0. 0.]\n",
      " [0. 0. 0. 0. 0.]]\n"
     ]
    },
    {
     "data": {
      "text/plain": [
       "array([[1., 1., 1., 1., 1.],\n",
       "       [1., 0., 0., 0., 1.],\n",
       "       [1., 0., 0., 0., 1.],\n",
       "       [1., 0., 0., 0., 1.],\n",
       "       [1., 1., 1., 1., 1.]])"
      ]
     },
     "execution_count": 16,
     "metadata": {},
     "output_type": "execute_result"
    }
   ],
   "source": [
    "matriz=np.zeros([5,5])\n",
    "print(matriz)\n",
    "matriz [0,:]=1\n",
    "matriz [4,:]=1\n",
    "matriz [:,0]=1\n",
    "matriz [:,4]=1\n",
    "matriz"
   ]
  },
  {
   "cell_type": "markdown",
   "id": "1ea8068d",
   "metadata": {},
   "source": [
    "#### Ejercicio 13 - Calcula la media y la desviación estándar de un array de 10 números aleatorios."
   ]
  },
  {
   "cell_type": "code",
   "execution_count": 17,
   "id": "05dd579d",
   "metadata": {},
   "outputs": [
    {
     "name": "stdout",
     "output_type": "stream",
     "text": [
      "[5 1 4 7 9 8 4 8 7 7]\n",
      "La media es:  6.0\n"
     ]
    }
   ],
   "source": [
    "array_random = np.random.randint(1,10,10)\n",
    "print(array_random)\n",
    "media=np.mean(array_random)\n",
    "print(\"La media es: \", media)"
   ]
  },
  {
   "cell_type": "markdown",
   "id": "6add6669",
   "metadata": {},
   "source": [
    "#### Ejercicio 14 - Genera un array tridimensional de dimensiones (2, 3, 4) con valores enteros del 1 al 24.\n",
    "\n",
    "- Transpón el array para intercambiar los ejes de la forma (2, 3, 4) a (4, 3, 2).\n",
    "\n",
    "- Observa cómo cambian las posiciones de los elementos y sus índices después de la transposición. Explica en una celda de markdown que es lo que ha pasado. \n"
   ]
  },
  {
   "cell_type": "code",
   "execution_count": 18,
   "id": "ae98aca5",
   "metadata": {},
   "outputs": [
    {
     "name": "stdout",
     "output_type": "stream",
     "text": [
      "[[[ 1  2  3  4]\n",
      "  [ 5  6  7  8]\n",
      "  [ 9 10 11 12]]\n",
      "\n",
      " [[13 14 15 16]\n",
      "  [17 18 19 20]\n",
      "  [21 22 23 24]]]\n",
      "[[[ 1 13]\n",
      "  [ 5 17]\n",
      "  [ 9 21]]\n",
      "\n",
      " [[ 2 14]\n",
      "  [ 6 18]\n",
      "  [10 22]]\n",
      "\n",
      " [[ 3 15]\n",
      "  [ 7 19]\n",
      "  [11 23]]\n",
      "\n",
      " [[ 4 16]\n",
      "  [ 8 20]\n",
      "  [12 24]]]\n"
     ]
    }
   ],
   "source": [
    "array_tridimensional = np.arange(1, 25).reshape((2, 3, 4))\n",
    "print(array_tridimensional)\n",
    "array_transpuesto = np.transpose(array_tridimensional, (2, 1, 0))\n",
    "print(array_transpuesto)"
   ]
  },
  {
   "cell_type": "markdown",
   "id": "b028d64d",
   "metadata": {},
   "source": [
    " El parámetro (1, 0, 2) indica que el segundo eje original (índice 1) se convierte en el primer eje, el primer eje original (índice 0) se convierte en el segundo eje, y el tercer eje (índice 2) permanece igual. Las variables cambian segun ese giro de los ejes"
   ]
  },
  {
   "cell_type": "markdown",
   "id": "1e32b5e6",
   "metadata": {},
   "source": [
    "#### Ejercicio 15 - Genera un array tridimensional de dimensiones (3, 4, 2) con valores enteros del 1 al 24.\n",
    "\n",
    "- Transpón el array para intercambiar el primer y segundo eje, de manera que la nueva forma del array sea (4, 3, 2).\n"
   ]
  },
  {
   "cell_type": "code",
   "execution_count": 19,
   "id": "0146fdd6",
   "metadata": {},
   "outputs": [
    {
     "name": "stdout",
     "output_type": "stream",
     "text": [
      "[[[ 1 13]\n",
      "  [ 5 17]\n",
      "  [ 9 21]]\n",
      "\n",
      " [[ 2 14]\n",
      "  [ 6 18]\n",
      "  [10 22]]\n",
      "\n",
      " [[ 3 15]\n",
      "  [ 7 19]\n",
      "  [11 23]]\n",
      "\n",
      " [[ 4 16]\n",
      "  [ 8 20]\n",
      "  [12 24]]]\n"
     ]
    }
   ],
   "source": [
    "\n",
    "array_tridimensional = np.arange(1, 25).reshape((2, 3, 4))\n",
    "array_transpuesto = np.transpose(array_tridimensional, (2, 1, 0))\n",
    "print(array_transpuesto)"
   ]
  },
  {
   "cell_type": "markdown",
   "id": "fcf92586",
   "metadata": {},
   "source": [
    "#### Ejercicio 16 - Genera un array tridimensional de dimensiones (3, 2, 4) con valores enteros del 1 al 24.\n",
    "\n",
    "- Realiza una rotación completa de los ejes para convertir la forma original (3, 2, 4) en (4, 3, 2).\n"
   ]
  },
  {
   "cell_type": "code",
   "execution_count": 20,
   "id": "dd2c7f27",
   "metadata": {},
   "outputs": [
    {
     "name": "stdout",
     "output_type": "stream",
     "text": [
      "Array 1 (3, 2, 4):\n",
      "[[[ 1  2  3  4]\n",
      "  [ 5  6  7  8]]\n",
      "\n",
      " [[ 9 10 11 12]\n",
      "  [13 14 15 16]]\n",
      "\n",
      " [[17 18 19 20]\n",
      "  [21 22 23 24]]]\n"
     ]
    }
   ],
   "source": [
    "array_tridimensional = np.arange(1, 25).reshape((3, 2, 4))\n",
    "print(\"Array 1 (3, 2, 4):\")\n",
    "print(array_tridimensional)\n",
    "\n",
    "\n",
    "    "
   ]
  },
  {
   "cell_type": "markdown",
   "id": "1795e11f",
   "metadata": {},
   "source": [
    "#### Ejercicio 17 - Manipulación de Arrays en 3D\n",
    "\n",
    "- Crea un array tridimensional con dimensiones (3, 4, 5) cuyos elementos sean números enteros aleatorios entre -10 y 10.\n",
    "\n",
    "- Crea un array vacío con la misma forma y dimensiones que el array creado anteriormente. Luego, reemplaza los valores de la matriz vacía basada en los valores del primer array bajo las siguientes condiciones:\n",
    "\n",
    "   - Si el valor es igual a la mediana, se reemplaza por `\"M\"`.\n",
    "\n",
    "   - Si el valor es mayor que la mediana, se reemplaza por `\"X\"`.\n",
    "\n",
    "   - Si el valor es menor que la mediana, se reemplaza por `\"Y\"`.\n",
    "\n",
    "   - Si el valor es igual al máximo, se reemplaza por `\"MAX\"`.\n",
    "\n",
    "   - Si el valor es igual al mínimo, se reemplaza por `\"MIN\"`.\n"
   ]
  },
  {
   "cell_type": "code",
   "execution_count": 21,
   "id": "d309b397",
   "metadata": {},
   "outputs": [
    {
     "name": "stdout",
     "output_type": "stream",
     "text": [
      "[[[ -3  -8   1   4   9]\n",
      "  [  7   7   4  -5   6]\n",
      "  [  3   5  10   7   5]\n",
      "  [  3   3   4   0   8]]\n",
      "\n",
      " [[ -1  -1   3  -7   7]\n",
      "  [  7   7   7  -6 -10]\n",
      "  [ -9   7   4   9   8]\n",
      "  [ -3   0  -9   2  -7]]\n",
      "\n",
      " [[ -8   8   6  -6  10]\n",
      "  [ -3  -7  -5   8   7]\n",
      "  [ -2   7  -5   6   1]\n",
      "  [  9  -8   3  -5 -10]]]\n",
      "Array Reemplazado (3, 4, 5):\n",
      "[[['Y' 'Y' 'Y' 'X' 'X']\n",
      "  ['X' 'X' 'X' 'Y' 'X']\n",
      "  ['M' 'X' 'MAX' 'X' 'X']\n",
      "  ['M' 'M' 'X' 'Y' 'X']]\n",
      "\n",
      " [['Y' 'Y' 'M' 'Y' 'X']\n",
      "  ['X' 'X' 'X' 'Y' 'MIN']\n",
      "  ['Y' 'X' 'X' 'X' 'X']\n",
      "  ['Y' 'Y' 'Y' 'Y' 'Y']]\n",
      "\n",
      " [['Y' 'X' 'X' 'Y' 'MAX']\n",
      "  ['Y' 'Y' 'Y' 'X' 'X']\n",
      "  ['Y' 'X' 'Y' 'X' 'Y']\n",
      "  ['X' 'Y' 'M' 'Y' 'MIN']]]\n"
     ]
    }
   ],
   "source": [
    "array_1 = np.random.randint(-10, 11, size=(3, 4, 5))\n",
    "\n",
    "\n",
    "print(array_1)\n",
    "\n",
    "#Calculamos mediana, máximo, mínimo\n",
    "mediana = np.median(array_1)\n",
    "maximo = np.max(array_1)\n",
    "minimo = np.min(array_1)\n",
    "\n",
    "# Creamos un array vacío de la misma forma con dtype=object para almacenar cadenas de texto\n",
    "array_reemplazado = np.empty_like(array_1, dtype=object)\n",
    "\n",
    "# Aplicamos las condiciones con np.where:\n",
    "\n",
    "array_reemplazado = np.where(array_1 == maximo, \"MAX\", array_reemplazado)\n",
    "array_reemplazado = np.where(array_1 == minimo, \"MIN\", array_reemplazado)\n",
    "array_reemplazado = np.where(array_1 == mediana, \"M\", array_reemplazado)\n",
    "array_reemplazado = np.where((array_1 > mediana) & (array_1 != maximo), \"X\", array_reemplazado)\n",
    "array_reemplazado = np.where((array_1 < mediana) & (array_1 != minimo), \"Y\", array_reemplazado)\n",
    "\n",
    "print(\"Array Reemplazado (3, 4, 5):\")\n",
    "print(array_reemplazado)\n"
   ]
  },
  {
   "cell_type": "markdown",
   "id": "83794704",
   "metadata": {},
   "source": [
    "#### Ejercicio 18 - Verificación de Filas y Columnas Iguales\n",
    "\n",
    "Crea un array bidimensional de dimensiones 4x4, escribe un código para determinar si alguna fila es exactamente igual a alguna columna.\n",
    "\n",
    "**Reglas:**\n",
    "\n",
    "- No puedes usar funciones predefinidas de NumPy para comparar filas y columnas (`np.array_equal`, etc.).\n",
    "\n",
    "- Debes resolverlo con estructuras básicas de Python (bucles, condicionales, etc.).\n",
    "\n",
    "- Debes revisar si hay al menos una fila que coincida exactamente con alguna columna.\n",
    "\n",
    "**Pistas**:\n",
    "\n",
    "- Puedes recorrer cada fila y cada columna de la matriz usando bucles.\n",
    "\n",
    "- Para comparar una fila con una columna, puedes hacerlo elemento por elemento."
   ]
  },
  {
   "cell_type": "code",
   "execution_count": 32,
   "id": "afd51c60",
   "metadata": {},
   "outputs": [
    {
     "name": "stdout",
     "output_type": "stream",
     "text": [
      "[9 8 6 7]\n",
      "[4 3 4 7]\n",
      "[9 3 2 8]\n",
      "[5 3 2 6]\n",
      "No hay filas que sean iguales a alguna columna.\n"
     ]
    },
    {
     "data": {
      "text/plain": [
       "False"
      ]
     },
     "execution_count": 32,
     "metadata": {},
     "output_type": "execute_result"
    }
   ],
   "source": [
    "matriz = np.random.randint(1,10,[4, 4])\n",
    "\n",
    "# Imprimimos la matriz respetando las restricciones que nos pone el enunciado\n",
    "\n",
    "for fila in matriz:\n",
    "    print(fila)\n",
    "\n",
    "# Función para comparar fila con columna\n",
    "def comparar_f_c(matriz):\n",
    "    filas = len(matriz)\n",
    "    columnas = len(matriz[0])\n",
    "\n",
    "    # Se recorren todas las filas\n",
    "    for i in range(filas):\n",
    "        # y todas las columnas\n",
    "        for j in range(columnas):\n",
    "            # Comprobamos si todos los elementos de la fila i son iguales a los de la columna j\n",
    "            son_iguales = True\n",
    "            for k in range(filas):\n",
    "                if matriz[i][k] != matriz[k][j]:\n",
    "                    son_iguales = False\n",
    "                    break\n",
    "            \n",
    "            if son_iguales:\n",
    "                print(f\"La fila {i + 1} es igual a la columna {j + 1}\")\n",
    "                return True\n",
    "    \n",
    "    print(\"No hay filas que sean iguales a alguna columna.\")\n",
    "    return False\n",
    "\n",
    "# Llamamos a la función para comparar filas y columnas\n",
    "comparar_f_c(matriz)\n"
   ]
  }
 ],
 "metadata": {
  "kernelspec": {
   "display_name": "Python 3",
   "language": "python",
   "name": "python3"
  },
  "language_info": {
   "codemirror_mode": {
    "name": "ipython",
    "version": 3
   },
   "file_extension": ".py",
   "mimetype": "text/x-python",
   "name": "python",
   "nbconvert_exporter": "python",
   "pygments_lexer": "ipython3",
   "version": "3.12.6"
  }
 },
 "nbformat": 4,
 "nbformat_minor": 5
}
